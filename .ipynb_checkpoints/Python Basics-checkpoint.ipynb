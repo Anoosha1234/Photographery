{
 "cells": [
  {
   "cell_type": "code",
   "execution_count": 1,
   "id": "aeda1b97",
   "metadata": {},
   "outputs": [
    {
     "name": "stdout",
     "output_type": "stream",
     "text": [
      "Python version 3.9.7 (default, Sep 16 2021, 16:59:28) [MSC v.1916 64 bit (AMD64)]\n"
     ]
    }
   ],
   "source": [
    "import sys\n",
    "print(\"Python version\",sys.version)"
   ]
  },
  {
   "cell_type": "markdown",
   "id": "07238836",
   "metadata": {},
   "source": [
    "# *Basics of Python for Django.*\n",
    "Author: Yashmit N.\n",
    "\n",
    "This Jupyter Notebook contains the specific basics which are a must have for Django.\n",
    "It contains the following topics:\n",
    "1. Data Types and conversions\n",
    "2. Lists \n",
    "3. Dictionaries\n",
    "4. Functions\n",
    "\n",
    "\n",
    "Useful links:\n",
    "\n",
    "https://www.w3schools.com/python/python_operators.asp\n",
    "\n",
    "https://www.w3schools.com/python/python_datatypes.asp\n",
    "\n",
    "#### The next notebook will contain Object-Oriented Python, Decorators for functions and libraries like numpy and pandas.\n"
   ]
  },
  {
   "cell_type": "markdown",
   "id": "ba34ca10",
   "metadata": {},
   "source": [
    "## DataTypes:\n",
    "\n",
    "In Python, the data type is set when you assign a value to a variable:\n",
    "\n",
    "\n",
    "`varname1 = \"String\"` sets variable as str, you can iterate over a str!\n",
    "\n",
    "`varname2 =  420 `    sets variable as int\n",
    "\n",
    "`varname3 = 420.69`   sets variable as float\n",
    "\n",
    "`varname4 = [varname1, varname2, varname3]` sets variable as list, you can iterate over lists!\n",
    "\n",
    "`varname5 = (varname1, varname2)` sets variable as tuple, you can iterate over tuples!\n",
    "\n",
    "`varname6 = dict(name=\"Anoosha\", interests=\"reading and writing\")` creates a dictionary with multiple keys and definitions\n",
    "\n"
   ]
  },
  {
   "cell_type": "markdown",
   "id": "4df4c12b",
   "metadata": {},
   "source": [
    "## Conversions:\n",
    "\n",
    "you can convert an int to a string by using the `int()` function, likewise you can convert str to int using `str()` but be careful as this can lead to errors as `\"Lmao\"` cannot be represented using digits by python. If you convert a floating point int to an int you will lose the value after the decimals, regardless of what the value beyond the deciamal was.\n",
    "\n",
    "### Try writing code to divide two numbers and round off to the nearest digit:\n"
   ]
  },
  {
   "cell_type": "code",
   "execution_count": 2,
   "id": "283ea205",
   "metadata": {},
   "outputs": [],
   "source": [
    "valueA = 5.412412\n",
    "valueB = 2.414234\n",
    "\n",
    "valueC = valueA/valueB\n",
    "\n",
    "roundA = round(valueC)\n",
    "\n",
    "print(\"Values:\".ljust(27), \"Rounded:\")\n",
    "print(str(valueA).ljust(15) + str(valueB).ljust(15) , roundA)"
   ]
  },
  {
   "cell_type": "markdown",
   "id": "4a536dc2",
   "metadata": {},
   "source": [
    "## Lists:\n",
    "\n",
    "You can either create a list by declaring the vaulues when creating the list or by appending or extending the list, `list.append(listitem)` will add listitem to the end of the list, `list.extend([listitem1,listitem2])` will add two lists\n",
    "\n",
    "### Question:\n",
    "\n",
    "Create a two lists, add them and print the final list."
   ]
  },
  {
   "cell_type": "code",
   "execution_count": 3,
   "id": "99b62fa9",
   "metadata": {},
   "outputs": [],
   "source": [
    "thesis = ['python', 'django', 'atom']\n",
    "thesis.append('conda')\n",
    "print(thesis)\n",
    "\n",
    "conda = ['anaconda', 'bigconda', 'miniconda']\n",
    "thesis.extend(conda)\n",
    "print(thesis)"
   ]
  },
  {
   "cell_type": "markdown",
   "id": "040f7b9a",
   "metadata": {},
   "source": [
    "### Dictionaries:\n",
    "\n",
    "This is like a list but every element has a key attached to it, which can be called by `dict[\"key\"]` where dict is the dictionary and key is the key, it will return the value associated with the key, you can declare values but you can also add key value pairs after init byt `dict[\"key\"]=\"value\"`. You cannot have two identical keys in a single dict, your key can have any type value, such as lists tuples or strings. \n",
    "\n",
    "### Question:\n",
    "\n",
    "Declare a dictionary and add the key value pair of your name, age and your worst regret (optional) and print them by calling the dict keys in a print function."
   ]
  },
  {
   "cell_type": "code",
   "execution_count": 4,
   "id": "c33fcafb",
   "metadata": {},
   "outputs": [],
   "source": [
    "#Creating an empty Dictionary\n",
    "Dict = {}\n",
    "print(\"Empty Dictionary: \")\n",
    "print(Dict)\n",
    "\n",
    "# Adding elements\n",
    "Dict = {\n",
    "    'name': 'Anoosha',\n",
    "    'age': 22,\n",
    "    'regrets': 'I dont have many tbh'\n",
    "}\n",
    "print(Dict['name'])\n",
    "print(Dict['age'])\n",
    "print(Dict['regrets'])"
   ]
  },
  {
   "cell_type": "markdown",
   "id": "178f2b63",
   "metadata": {},
   "source": [
    "### Functions:\n",
    "\n",
    "Just like how print is an internal python fucntion, you can write and create your own functions by defining them as\n",
    "\n",
    "`def functionname(input1, input2, input3...)`\n",
    "\n",
    "you can pass some variables into the function since any variable created in the fucntion is destroyed after the function completes its task, you can compute what you want and return a variable of any type by using `return var` where var is the variable, you can intake as many variables as inputs as neccesary.\n",
    "\n",
    "more info: https://www.w3schools.com/python/python_functions.asp\n",
    "\n",
    "### Question:\n",
    "\n",
    "Create a function that takes 3 variables in and averages them, return the average, make sure your functions don't have input or output functions like print or input!"
   ]
  },
  {
   "cell_type": "code",
   "execution_count": 5,
   "id": "35007c06",
   "metadata": {},
   "outputs": [],
   "source": [
    "def avg(first, second, third):\n",
    "    average = (first+second+third)/3\n",
    "    return average\n",
    "    \n",
    "result = avg(1,3,4)\n",
    "print(\"Result: \",result)"
   ]
  },
  {
   "cell_type": "code",
   "execution_count": 2,
   "id": "c80cc6ea",
   "metadata": {},
   "outputs": [
    {
     "name": "stdout",
     "output_type": "stream",
     "text": [
      "Anoosha is interested in:\n",
      "reading, writing\n",
      "not python\n",
      "Anoosha is interested in:\n",
      "reading, writing\n",
      "not python\n",
      "Anoosha is interested in:\n",
      "reading, writing\n",
      "not python\n"
     ]
    }
   ],
   "source": [
    "def initanoosha():\n",
    "    \n",
    "    anoosha = dict()\n",
    "    anoosha[\"name\"]=\"Anoosha\"\n",
    "    anoosha[\"interests\"]=[(\"reading\",\"writing\"), \"not python\"]\n",
    "    anoosha[\"age\"]=\"22\"\n",
    "    return anoosha\n",
    "\n",
    "def inityashmit():\n",
    "    yashmit=dict()\n",
    "    yashmit[\"name\"]=\"Yashmit\"\n",
    "    yashmit[\"interests\"]=[\"python\", \"computers\"]\n",
    "    yashmit[\"age\"]=\"21\"\n",
    "\n",
    "    return yashmit\n",
    "\n",
    "\n",
    "\n",
    "employee1=initanoosha()\n",
    "employee2=inityashmit()\n",
    "\n",
    "\n",
    "counter=0\n",
    "while(counter<3):\n",
    "    print(\"Anoosha is interested in:\")\n",
    "    for i in employee1[\"interests\"]:\n",
    "      \n",
    "\n",
    "            if type(i) is tuple:\n",
    "                tuplength=len(i)\n",
    "                for j in range(tuplength-1):\n",
    "                    print(i[j], end=\", \")\n",
    "                print(i[tuplength-1])\n",
    "\n",
    "            else:print(i)\n",
    "    counter=counter+1\n",
    "    \n",
    "\n",
    "    "
   ]
  },
  {
   "cell_type": "markdown",
   "id": "6407b235",
   "metadata": {},
   "source": [
    "# Final Questions:\n",
    " 1. Explain what the code above does line by line\n",
    " 2. Divide the ages and round to the nearest 10"
   ]
  },
  {
   "cell_type": "markdown",
   "id": "9118a2b6",
   "metadata": {},
   "source": [
    "#Write explanation here!"
   ]
  },
  {
   "cell_type": "code",
   "execution_count": 3,
   "id": "0e928471",
   "metadata": {},
   "outputs": [
    {
     "name": "stdout",
     "output_type": "stream",
     "text": [
      "Anoosha is interested in:\n",
      "reading, writing\n",
      "not python\n",
      "Anoosha is interested in:\n",
      "reading, writing\n",
      "not python\n",
      "Anoosha is interested in:\n",
      "reading, writing\n",
      "not python\n"
     ]
    }
   ],
   "source": [
    "def initanoosha():  #creating a function\n",
    "    \n",
    "    anoosha = dict()  #empty dictionary\n",
    "    anoosha[\"name\"]=\"Anoosha\"  #key 1\n",
    "    anoosha[\"interests\"]=[(\"reading\",\"writing\"), \"not python\"]  #key 2 (this one has one tuple)\n",
    "    anoosha[\"age\"]=\"22\"  #key 3\n",
    "    return anoosha   #return \n",
    "\n",
    "def inityashmit():\n",
    "    yashmit=dict()\n",
    "    yashmit[\"name\"]=\"Yashmit\"\n",
    "    yashmit[\"interests\"]=[\"python\", \"computers\"]\n",
    "    yashmit[\"age\"]=\"21\"\n",
    "    return yashmit\n",
    "\n",
    "\n",
    "\n",
    "employee1=initanoosha()  #objects from classes\n",
    "employee2=inityashmit()\n",
    "\n",
    "\n",
    "counter=0  #staring from 0 for iteration\n",
    "while(counter<3):  #fixing the iteration to less than 3 so that it repeats 3 times\n",
    "    print(\"Anoosha is interested in:\")\n",
    "    for i in employee1[\"interests\"]:  #iterating over the interest key values\n",
    "\n",
    "            if type(i) is tuple: #to check if interests has tuples\n",
    "                tuplength=len(i) #setting the length of tuples to be the max value of i\n",
    "                for j in range(tuplength-1): #j will iterate over all the values inside the sets\n",
    "                    print(i[j], end=\", \") #print the first value \n",
    "                print(i[tuplength-1]) #print till the last value in the tuple\n",
    "                \n",
    "            else:print(i) #print the non-tuple values\n",
    "    counter=counter+1 #print 3 times "
   ]
  },
  {
   "cell_type": "code",
   "execution_count": 7,
   "id": "4049d129",
   "metadata": {},
   "outputs": [],
   "source": [
    "cryptic_variable=b\"\\xff\\xfeI\\x00 \\x00c\\x00a\\x00n\\x00'\\x00t\\x00 \\x00b\\x00e\\x00l\\x00i\\x00v\\x00e\\x00 \\x00y\\x00o\\x00u\\x00 \\x00g\\x00o\\x00t\\x00 \\x00i\\x00t\\x00,\\x00 \\x00n\\x00o\\x00w\\x00 \\x00I\\x00'\\x00m\\x00 \\x00r\\x00e\\x00a\\x00l\\x00l\\x00y\\x00 \\x00i\\x00n\\x00t\\x00o\\x00 \\x00y\\x00o\\x00u\\x00,\\x00 \\x00w\\x00a\\x00n\\x00n\\x00a\\x00 \\x00g\\x00o\\x00 \\x00o\\x00n\\x00 \\x00a\\x00 \\x00d\\x00a\\x00t\\x00e\\x00?\\x00\""
   ]
  },
  {
   "cell_type": "markdown",
   "id": "49e52e97",
   "metadata": {},
   "source": [
    "The above defined `cryptic_variable` is a true test of your understanding for data types, formatting and encodings, if youre able to figure out what this means then you're much better than you think. you don't need to solve this to consider this book done, it's just for fun!"
   ]
  },
  {
   "cell_type": "code",
   "execution_count": 8,
   "id": "010ecd10",
   "metadata": {},
   "outputs": [
    {
     "name": "stdout",
     "output_type": "stream",
     "text": [
      "b\"\\xff\\xfeI\\x00 \\x00c\\x00a\\x00n\\x00'\\x00t\\x00 \\x00b\\x00e\\x00l\\x00i\\x00v\\x00e\\x00 \\x00y\\x00o\\x00u\\x00 \\x00g\\x00o\\x00t\\x00 \\x00i\\x00t\\x00,\\x00 \\x00n\\x00o\\x00w\\x00 \\x00I\\x00'\\x00m\\x00 \\x00r\\x00e\\x00a\\x00l\\x00l\\x00y\\x00 \\x00i\\x00n\\x00t\\x00o\\x00 \\x00y\\x00o\\x00u\\x00,\\x00 \\x00w\\x00a\\x00n\\x00n\\x00a\\x00 \\x00g\\x00o\\x00 \\x00o\\x00n\\x00 \\x00a\\x00 \\x00d\\x00a\\x00t\\x00e\\x00?\\x00\"\n"
     ]
    }
   ],
   "source": [
    "print(cryptic_variable)\n",
    "#try code here to figure it out!"
   ]
  }
 ],
 "metadata": {
  "kernelspec": {
   "display_name": "Python 3 (ipykernel)",
   "language": "python",
   "name": "python3"
  },
  "language_info": {
   "codemirror_mode": {
    "name": "ipython",
    "version": 3
   },
   "file_extension": ".py",
   "mimetype": "text/x-python",
   "name": "python",
   "nbconvert_exporter": "python",
   "pygments_lexer": "ipython3",
   "version": "3.9.7"
  }
 },
 "nbformat": 4,
 "nbformat_minor": 5
}
